{
 "cells": [
  {
   "cell_type": "markdown",
   "source": [
    "## Data Extraction Code\n",
    "This is a data extraction code to query from Open-Meteo Historical Weather API\n",
    "More information can be explored here: https://open-meteo.com/en/docs\n",
    "\n",
    "Latitude and longitude is chosen to represent Vancouver.\n",
    "VAN_LAT = 49.2497\n",
    "VAN_LONG = -123.1193\n",
    "\n",
    "Weather data have been selected for 50 year period (1974 to now)"
   ],
   "metadata": {
    "collapsed": false
   },
   "id": "2a0b5d757d96e996"
  },
  {
   "cell_type": "code",
   "execution_count": 2,
   "id": "d5b7ba49-00ac-4e20-b946-d5965c0d63c4",
   "metadata": {
    "ExecuteTime": {
     "end_time": "2024-03-27T04:29:03.342796Z",
     "start_time": "2024-03-27T04:29:03.334129Z"
    }
   },
   "outputs": [],
   "source": [
    "import openmeteo_requests\n",
    "import requests_cache\n",
    "import pandas as pd\n",
    "import os\n",
    "\n",
    "from retry_requests import retry\n",
    "from datetime import datetime, timedelta\n",
    "\n",
    "def get_vancouver_data(url, start_date, end_date, write_to = \"\", create_csv = False):\n",
    "    \"\"\"\n",
    "    Creates a new DataFrame with 18 columns, containing weather observations for each date between \n",
    "    the start and end dates in Vancouver. Data is extracted via API from  Open-Meteo’s Historical Weather \n",
    "    API. Each row in the dataset includes weather measurement statistics in a day. \n",
    "\n",
    "    Parameters:\n",
    "    ----------\n",
    "    url : str\n",
    "        A string url that serves as the API endpoint to get the data from\n",
    "    start_date : str\n",
    "        A string in YYYY-MM-DD format (e.g. \"1990-01-01\") that the weather API will start extracting from.\n",
    "    end_date : str\n",
    "        A string in YYYY-MM-DD format (e.g. \"2000-01-01\") that the weather API will conclude the query.\n",
    "    write_to : str\n",
    "        A string path for the csv file to be stored.\n",
    "    create_csv: bool\n",
    "        A boolean. If true, a csv file will be created in data folder, populated with weather data. False by default. \n",
    "\n",
    "    Returns:\n",
    "    -------\n",
    "    pandas.DataFrame\n",
    "        A DatetimeIndex DataFrame with 18 columns, containing weather observations for each date \n",
    "        between the start and end dates. \n",
    "        \n",
    "    Examples:\n",
    "    --------\n",
    "    >>> precipit_df = get_vancouver_data(start_date, end_date, create_csv=True)\n",
    "\n",
    "    \"\"\"\n",
    "\n",
    "    # Setup the Open-Meteo API client with cache and retry on error\n",
    "    cache_session = requests_cache.CachedSession('.cache', expire_after = 3600)\n",
    "    retry_session = retry(cache_session, retries = 5, backoff_factor = 0.2)\n",
    "    openmeteo = openmeteo_requests.Client(session = retry_session)\n",
    "\n",
    "    VAN_LAT = 49.2497\n",
    "    VAN_LONG = -123.1193\n",
    "    START_DATE = start_date # default to \"1990-01-01\"\n",
    "    END_DATE = end_date # default to (datetime.now() - timedelta(days = 7)).strftime('%Y-%m-%d')\n",
    "    RETRIEVE_COLS = [\"weather_code\", \"temperature_2m_max\", \"temperature_2m_min\", \"temperature_2m_mean\", \n",
    "                     \"apparent_temperature_max\", \"apparent_temperature_min\", \"apparent_temperature_mean\", \n",
    "                     \"sunrise\", \"sunset\", \"precipitation_sum\", \"rain_sum\", \"snowfall_sum\", \"precipitation_hours\", \n",
    "                     \"wind_speed_10m_max\", \"wind_gusts_10m_max\", \"wind_direction_10m_dominant\", \"shortwave_radiation_sum\",\n",
    "                     \"et0_fao_evapotranspiration\"]\n",
    "    \n",
    "    \n",
    "    # Make sure all required weather variables are listed here\n",
    "    # The order of variables in hourly or daily is important to assign them correctly below\n",
    "    #url = \"https://archive-api.open-meteo.com/v1/archive\"\n",
    "    params = {\n",
    "    \t\"latitude\": VAN_LAT,\n",
    "    \t\"longitude\": VAN_LONG,\n",
    "    \t\"start_date\": START_DATE,\n",
    "    \t\"end_date\": END_DATE,\n",
    "    \t\"daily\": RETRIEVE_COLS,\n",
    "        \"timezone\": \"auto\"\n",
    "    }\n",
    "    responses = openmeteo.weather_api(url, params=params)\n",
    "    \n",
    "    # Process first location. Add a for-loop for multiple locations or weather models\n",
    "    response = responses[0]\n",
    "    print(f\"Coordinates {response.Latitude()}°E {response.Longitude()}°N\")\n",
    "    print(f\"Elevation {response.Elevation()} m asl\")\n",
    "    print(f\"Timezone {response.Timezone()} {response.TimezoneAbbreviation()}\")\n",
    "    print(f\"Timezone difference to GMT+0 {response.UtcOffsetSeconds()} s\")\n",
    "    \n",
    "    # Process daily data. The order of variables needs to be the same as requested.\n",
    "    daily = response.Daily()\n",
    "    daily_weather_code = daily.Variables(0).ValuesAsNumpy()\n",
    "    daily_temperature_2m_max = daily.Variables(1).ValuesAsNumpy()\n",
    "    daily_temperature_2m_min = daily.Variables(2).ValuesAsNumpy()\n",
    "    daily_temperature_2m_mean = daily.Variables(3).ValuesAsNumpy()\n",
    "    daily_apparent_temperature_max = daily.Variables(4).ValuesAsNumpy()\n",
    "    daily_apparent_temperature_min = daily.Variables(5).ValuesAsNumpy()\n",
    "    daily_apparent_temperature_mean = daily.Variables(6).ValuesAsNumpy()\n",
    "    daily_sunrise = daily.Variables(7).ValuesAsNumpy()\n",
    "    daily_sunset = daily.Variables(8).ValuesAsNumpy()\n",
    "    daily_precipitation_sum = daily.Variables(9).ValuesAsNumpy()\n",
    "    daily_rain_sum = daily.Variables(10).ValuesAsNumpy()\n",
    "    daily_snowfall_sum = daily.Variables(11).ValuesAsNumpy()\n",
    "    daily_precipitation_hours = daily.Variables(12).ValuesAsNumpy()\n",
    "    daily_wind_speed_10m_max = daily.Variables(13).ValuesAsNumpy()\n",
    "    daily_wind_gusts_10m_max = daily.Variables(14).ValuesAsNumpy()\n",
    "    daily_wind_direction_10m_dominant = daily.Variables(15).ValuesAsNumpy()\n",
    "    daily_shortwave_radiation_sum = daily.Variables(16).ValuesAsNumpy()\n",
    "    daily_et0_fao_evapotranspiration = daily.Variables(17).ValuesAsNumpy()\n",
    "    \n",
    "    daily_data = {\"date\": pd.date_range(\n",
    "    \tstart = pd.to_datetime(daily.Time(), unit = \"s\").strftime('%Y-%m-%d'),\n",
    "    \tend = pd.to_datetime(daily.TimeEnd(), unit = \"s\").strftime('%Y-%m-%d'),\n",
    "    \tfreq = pd.Timedelta(days = 1),\n",
    "    \tinclusive = \"left\"\n",
    "    )}\n",
    "    daily_data[\"weather_code\"] = daily_weather_code\n",
    "    daily_data[\"temperature_2m_max\"] = daily_temperature_2m_max\n",
    "    daily_data[\"temperature_2m_min\"] = daily_temperature_2m_min\n",
    "    daily_data[\"temperature_2m_mean\"] = daily_temperature_2m_mean\n",
    "    daily_data[\"apparent_temperature_max\"] = daily_apparent_temperature_max\n",
    "    daily_data[\"apparent_temperature_min\"] = daily_apparent_temperature_min\n",
    "    daily_data[\"apparent_temperature_mean\"] = daily_apparent_temperature_mean\n",
    "    daily_data[\"sunrise\"] = daily_sunrise\n",
    "    daily_data[\"sunset\"] = daily_sunset\n",
    "    daily_data[\"precipitation_sum\"] = daily_precipitation_sum\n",
    "    daily_data[\"rain_sum\"] = daily_rain_sum\n",
    "    daily_data[\"snowfall_sum\"] = daily_snowfall_sum\n",
    "    daily_data[\"precipitation_hours\"] = daily_precipitation_hours\n",
    "    daily_data[\"wind_speed_10m_max\"] = daily_wind_speed_10m_max\n",
    "    daily_data[\"wind_gusts_10m_max\"] = daily_wind_gusts_10m_max\n",
    "    daily_data[\"wind_direction_10m_dominant\"] = daily_wind_direction_10m_dominant\n",
    "    daily_data[\"shortwave_radiation_sum\"] = daily_shortwave_radiation_sum\n",
    "    daily_data[\"et0_fao_evapotranspiration\"] = daily_et0_fao_evapotranspiration\n",
    "    \n",
    "    df_van_weather = pd.DataFrame(data = daily_data)\n",
    "    df_van_weather = df_van_weather.set_index('date')\n",
    "\n",
    "    if create_csv == True:  # Publish to CSV file if create_csv parameter is True\n",
    "\n",
    "        # write_to path transforming\n",
    "        if write_to != '':\n",
    "            write_to = write_to if write_to[-1] == '/' else write_to + '/'\n",
    "        \n",
    "        # Check write_to path existence\n",
    "        if not os.path.exists(write_to):\n",
    "            os.mkdir(write_to)\n",
    "\n",
    "        full_path = os.path.join(write_to, f'van_weather_{start_date}_{end_date}.csv')\n",
    "\n",
    "        df_van_weather.to_csv(full_path)\n",
    "        print(f'published to {full_path}')\n",
    "        \n",
    "    return df_van_weather"
   ]
  },
  {
   "cell_type": "code",
   "execution_count": 4,
   "id": "8b5a9274-04a9-4ffc-a2e7-cecdba46a4f3",
   "metadata": {
    "ExecuteTime": {
     "end_time": "2024-03-27T04:31:37.220570Z",
     "start_time": "2024-03-27T04:31:32.358052Z"
    }
   },
   "outputs": [
    {
     "name": "stdout",
     "output_type": "stream",
     "text": [
      "Coordinates 49.244285583496094°E -123.13357543945312°N\n",
      "Elevation 73.0 m asl\n",
      "Timezone b'America/Vancouver' b'PDT'\n",
      "Timezone difference to GMT+0 -25200 s\n",
      "published to ../data/raw/van_weather_1974-01-01_2024-03-15.csv\n"
     ]
    },
    {
     "data": {
      "text/plain": "            weather_code  temperature_2m_max  temperature_2m_min  \\\ndate                                                               \n1974-01-01           1.0            1.209500             -3.9405   \n1974-01-02           2.0           -0.440500             -4.1905   \n1974-01-03           1.0            0.759500             -4.6405   \n1974-01-04           0.0            1.259500             -4.7405   \n1974-01-05           1.0           -0.740500             -5.3405   \n...                  ...                 ...                 ...   \n2024-03-11          73.0            6.480500              2.4305   \n2024-03-12          71.0            8.830501              2.2805   \n2024-03-13          51.0            8.980500              1.4805   \n2024-03-14           1.0            9.130500              0.8805   \n2024-03-15           1.0           11.880500              3.8805   \n\n            temperature_2m_mean  apparent_temperature_max  \\\ndate                                                        \n1974-01-01            -1.628000                 -2.615206   \n1974-01-02            -2.534250                 -7.042603   \n1974-01-03            -2.200917                 -3.240397   \n1974-01-04            -2.123833                 -3.855434   \n1974-01-05            -3.017584                 -5.951634   \n...                         ...                       ...   \n2024-03-11             4.834666                  2.799310   \n2024-03-12             5.913834                  5.870210   \n2024-03-13             4.801333                  6.200351   \n2024-03-14             4.986750                  5.647038   \n2024-03-15             7.459667                  9.390454   \n\n            apparent_temperature_min  apparent_temperature_mean  sunrise  \\\ndate                                                                       \n1974-01-01                 -9.347763                  -6.263546        0   \n1974-01-02                -10.584426                  -8.725637        0   \n1974-01-03                 -9.653934                  -6.773499        0   \n1974-01-04                 -9.639334                  -7.336088        0   \n1974-01-05                -11.345201                  -8.649396        0   \n...                              ...                        ...      ...   \n2024-03-11                 -1.208659                   0.767118        0   \n2024-03-12                 -0.629795                   2.939599        0   \n2024-03-13                 -2.274500                   1.806471        0   \n2024-03-14                 -1.930708                   1.994234        0   \n2024-03-15                  0.373080                   4.726449        0   \n\n            sunset  precipitation_sum   rain_sum  snowfall_sum  \\\ndate                                                             \n1974-01-01       0                0.0   0.000000          0.00   \n1974-01-02       0                0.0   0.000000          0.00   \n1974-01-03       0                0.0   0.000000          0.00   \n1974-01-04       0                0.0   0.000000          0.00   \n1974-01-05       0                0.0   0.000000          0.00   \n...            ...                ...        ...           ...   \n2024-03-11       0               11.8  11.300000          0.35   \n2024-03-12       0                7.2   7.099999          0.07   \n2024-03-13       0                0.8   0.800000          0.00   \n2024-03-14       0                0.0   0.000000          0.00   \n2024-03-15       0                0.0   0.000000          0.00   \n\n            precipitation_hours  wind_speed_10m_max  wind_gusts_10m_max  \\\ndate                                                                      \n1974-01-01                  0.0           16.595179           29.519999   \n1974-01-02                  0.0           25.264202           49.680000   \n1974-01-03                  0.0           17.673029           33.839996   \n1974-01-04                  0.0           21.096123           45.000000   \n1974-01-05                  0.0           21.533897           41.039997   \n...                         ...                 ...                 ...   \n2024-03-11                 16.0           28.594517           45.719997   \n2024-03-12                 14.0           17.313717           31.680000   \n2024-03-13                  3.0           13.320000           20.880001   \n2024-03-14                  0.0           16.055353           29.160000   \n2024-03-15                  0.0           13.708391           26.280001   \n\n            wind_direction_10m_dominant  shortwave_radiation_sum  \\\ndate                                                               \n1974-01-01                    53.332989                     5.45   \n1974-01-02                    47.123363                     5.50   \n1974-01-03                    62.702984                     5.54   \n1974-01-04                    41.982567                     5.73   \n1974-01-05                    42.725307                     5.85   \n...                                 ...                      ...   \n2024-03-11                    84.990547                     3.55   \n2024-03-12                   138.234528                    11.25   \n2024-03-13                    56.309872                    13.26   \n2024-03-14                   300.265808                    15.37   \n2024-03-15                   297.723938                    15.02   \n\n            et0_fao_evapotranspiration  \ndate                                    \n1974-01-01                    0.636952  \n1974-01-02                    1.180610  \n1974-01-03                    0.740243  \n1974-01-04                    0.952258  \n1974-01-05                    1.095964  \n...                                ...  \n2024-03-11                    0.596310  \n2024-03-12                    1.295204  \n2024-03-13                    1.560643  \n2024-03-14                    1.681984  \n2024-03-15                    1.768000  \n\n[18337 rows x 18 columns]",
      "text/html": "<div>\n<style scoped>\n    .dataframe tbody tr th:only-of-type {\n        vertical-align: middle;\n    }\n\n    .dataframe tbody tr th {\n        vertical-align: top;\n    }\n\n    .dataframe thead th {\n        text-align: right;\n    }\n</style>\n<table border=\"1\" class=\"dataframe\">\n  <thead>\n    <tr style=\"text-align: right;\">\n      <th></th>\n      <th>weather_code</th>\n      <th>temperature_2m_max</th>\n      <th>temperature_2m_min</th>\n      <th>temperature_2m_mean</th>\n      <th>apparent_temperature_max</th>\n      <th>apparent_temperature_min</th>\n      <th>apparent_temperature_mean</th>\n      <th>sunrise</th>\n      <th>sunset</th>\n      <th>precipitation_sum</th>\n      <th>rain_sum</th>\n      <th>snowfall_sum</th>\n      <th>precipitation_hours</th>\n      <th>wind_speed_10m_max</th>\n      <th>wind_gusts_10m_max</th>\n      <th>wind_direction_10m_dominant</th>\n      <th>shortwave_radiation_sum</th>\n      <th>et0_fao_evapotranspiration</th>\n    </tr>\n    <tr>\n      <th>date</th>\n      <th></th>\n      <th></th>\n      <th></th>\n      <th></th>\n      <th></th>\n      <th></th>\n      <th></th>\n      <th></th>\n      <th></th>\n      <th></th>\n      <th></th>\n      <th></th>\n      <th></th>\n      <th></th>\n      <th></th>\n      <th></th>\n      <th></th>\n      <th></th>\n    </tr>\n  </thead>\n  <tbody>\n    <tr>\n      <th>1974-01-01</th>\n      <td>1.0</td>\n      <td>1.209500</td>\n      <td>-3.9405</td>\n      <td>-1.628000</td>\n      <td>-2.615206</td>\n      <td>-9.347763</td>\n      <td>-6.263546</td>\n      <td>0</td>\n      <td>0</td>\n      <td>0.0</td>\n      <td>0.000000</td>\n      <td>0.00</td>\n      <td>0.0</td>\n      <td>16.595179</td>\n      <td>29.519999</td>\n      <td>53.332989</td>\n      <td>5.45</td>\n      <td>0.636952</td>\n    </tr>\n    <tr>\n      <th>1974-01-02</th>\n      <td>2.0</td>\n      <td>-0.440500</td>\n      <td>-4.1905</td>\n      <td>-2.534250</td>\n      <td>-7.042603</td>\n      <td>-10.584426</td>\n      <td>-8.725637</td>\n      <td>0</td>\n      <td>0</td>\n      <td>0.0</td>\n      <td>0.000000</td>\n      <td>0.00</td>\n      <td>0.0</td>\n      <td>25.264202</td>\n      <td>49.680000</td>\n      <td>47.123363</td>\n      <td>5.50</td>\n      <td>1.180610</td>\n    </tr>\n    <tr>\n      <th>1974-01-03</th>\n      <td>1.0</td>\n      <td>0.759500</td>\n      <td>-4.6405</td>\n      <td>-2.200917</td>\n      <td>-3.240397</td>\n      <td>-9.653934</td>\n      <td>-6.773499</td>\n      <td>0</td>\n      <td>0</td>\n      <td>0.0</td>\n      <td>0.000000</td>\n      <td>0.00</td>\n      <td>0.0</td>\n      <td>17.673029</td>\n      <td>33.839996</td>\n      <td>62.702984</td>\n      <td>5.54</td>\n      <td>0.740243</td>\n    </tr>\n    <tr>\n      <th>1974-01-04</th>\n      <td>0.0</td>\n      <td>1.259500</td>\n      <td>-4.7405</td>\n      <td>-2.123833</td>\n      <td>-3.855434</td>\n      <td>-9.639334</td>\n      <td>-7.336088</td>\n      <td>0</td>\n      <td>0</td>\n      <td>0.0</td>\n      <td>0.000000</td>\n      <td>0.00</td>\n      <td>0.0</td>\n      <td>21.096123</td>\n      <td>45.000000</td>\n      <td>41.982567</td>\n      <td>5.73</td>\n      <td>0.952258</td>\n    </tr>\n    <tr>\n      <th>1974-01-05</th>\n      <td>1.0</td>\n      <td>-0.740500</td>\n      <td>-5.3405</td>\n      <td>-3.017584</td>\n      <td>-5.951634</td>\n      <td>-11.345201</td>\n      <td>-8.649396</td>\n      <td>0</td>\n      <td>0</td>\n      <td>0.0</td>\n      <td>0.000000</td>\n      <td>0.00</td>\n      <td>0.0</td>\n      <td>21.533897</td>\n      <td>41.039997</td>\n      <td>42.725307</td>\n      <td>5.85</td>\n      <td>1.095964</td>\n    </tr>\n    <tr>\n      <th>...</th>\n      <td>...</td>\n      <td>...</td>\n      <td>...</td>\n      <td>...</td>\n      <td>...</td>\n      <td>...</td>\n      <td>...</td>\n      <td>...</td>\n      <td>...</td>\n      <td>...</td>\n      <td>...</td>\n      <td>...</td>\n      <td>...</td>\n      <td>...</td>\n      <td>...</td>\n      <td>...</td>\n      <td>...</td>\n      <td>...</td>\n    </tr>\n    <tr>\n      <th>2024-03-11</th>\n      <td>73.0</td>\n      <td>6.480500</td>\n      <td>2.4305</td>\n      <td>4.834666</td>\n      <td>2.799310</td>\n      <td>-1.208659</td>\n      <td>0.767118</td>\n      <td>0</td>\n      <td>0</td>\n      <td>11.8</td>\n      <td>11.300000</td>\n      <td>0.35</td>\n      <td>16.0</td>\n      <td>28.594517</td>\n      <td>45.719997</td>\n      <td>84.990547</td>\n      <td>3.55</td>\n      <td>0.596310</td>\n    </tr>\n    <tr>\n      <th>2024-03-12</th>\n      <td>71.0</td>\n      <td>8.830501</td>\n      <td>2.2805</td>\n      <td>5.913834</td>\n      <td>5.870210</td>\n      <td>-0.629795</td>\n      <td>2.939599</td>\n      <td>0</td>\n      <td>0</td>\n      <td>7.2</td>\n      <td>7.099999</td>\n      <td>0.07</td>\n      <td>14.0</td>\n      <td>17.313717</td>\n      <td>31.680000</td>\n      <td>138.234528</td>\n      <td>11.25</td>\n      <td>1.295204</td>\n    </tr>\n    <tr>\n      <th>2024-03-13</th>\n      <td>51.0</td>\n      <td>8.980500</td>\n      <td>1.4805</td>\n      <td>4.801333</td>\n      <td>6.200351</td>\n      <td>-2.274500</td>\n      <td>1.806471</td>\n      <td>0</td>\n      <td>0</td>\n      <td>0.8</td>\n      <td>0.800000</td>\n      <td>0.00</td>\n      <td>3.0</td>\n      <td>13.320000</td>\n      <td>20.880001</td>\n      <td>56.309872</td>\n      <td>13.26</td>\n      <td>1.560643</td>\n    </tr>\n    <tr>\n      <th>2024-03-14</th>\n      <td>1.0</td>\n      <td>9.130500</td>\n      <td>0.8805</td>\n      <td>4.986750</td>\n      <td>5.647038</td>\n      <td>-1.930708</td>\n      <td>1.994234</td>\n      <td>0</td>\n      <td>0</td>\n      <td>0.0</td>\n      <td>0.000000</td>\n      <td>0.00</td>\n      <td>0.0</td>\n      <td>16.055353</td>\n      <td>29.160000</td>\n      <td>300.265808</td>\n      <td>15.37</td>\n      <td>1.681984</td>\n    </tr>\n    <tr>\n      <th>2024-03-15</th>\n      <td>1.0</td>\n      <td>11.880500</td>\n      <td>3.8805</td>\n      <td>7.459667</td>\n      <td>9.390454</td>\n      <td>0.373080</td>\n      <td>4.726449</td>\n      <td>0</td>\n      <td>0</td>\n      <td>0.0</td>\n      <td>0.000000</td>\n      <td>0.00</td>\n      <td>0.0</td>\n      <td>13.708391</td>\n      <td>26.280001</td>\n      <td>297.723938</td>\n      <td>15.02</td>\n      <td>1.768000</td>\n    </tr>\n  </tbody>\n</table>\n<p>18337 rows × 18 columns</p>\n</div>"
     },
     "execution_count": 4,
     "metadata": {},
     "output_type": "execute_result"
    }
   ],
   "source": [
    "get_vancouver_data(\"https://archive-api.open-meteo.com/v1/archive\", \"1974-01-01\", \"2024-03-15\", \"../data/raw\", create_csv=True)"
   ]
  },
  {
   "cell_type": "code",
   "execution_count": null,
   "id": "5785fd70-af53-4a10-a596-71a3343ed8a3",
   "metadata": {},
   "outputs": [],
   "source": []
  },
  {
   "cell_type": "code",
   "execution_count": null,
   "id": "0e8ca1e6-2421-46d1-866f-56c43ab32b76",
   "metadata": {},
   "outputs": [],
   "source": []
  }
 ],
 "metadata": {
  "kernelspec": {
   "display_name": "Python 3 (ipykernel)",
   "language": "python",
   "name": "python3"
  },
  "language_info": {
   "codemirror_mode": {
    "name": "ipython",
    "version": 3
   },
   "file_extension": ".py",
   "mimetype": "text/x-python",
   "name": "python",
   "nbconvert_exporter": "python",
   "pygments_lexer": "ipython3",
   "version": "3.11.4"
  }
 },
 "nbformat": 4,
 "nbformat_minor": 5
}
